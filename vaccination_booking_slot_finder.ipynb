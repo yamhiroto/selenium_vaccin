{
 "cells": [
  {
   "cell_type": "code",
   "execution_count": null,
   "metadata": {},
   "outputs": [],
   "source": [
    "from collections import Counter\n",
    "from datetime import datetime\n",
    "import requests\n",
    "import time\n",
    "\n",
    "from bs4 import BeautifulSoup\n",
    "import pandas as pd\n",
    "from selenium import webdriver \n",
    "from selenium.common.exceptions import NoSuchElementException\n",
    "from selenium.common.exceptions import TimeoutException\n",
    "from selenium.webdriver.common.by import By\n",
    "from selenium.webdriver.support import expected_conditions as EC\n",
    "from selenium.webdriver.support.ui import WebDriverWait\n",
    "\n",
    "from selenium.webdriver.support.select import Select\n",
    "\n",
    "from IPython.display import Audio\n",
    "sound_file = './notification_sound.mp3'"
   ]
  },
  {
   "cell_type": "code",
   "execution_count": null,
   "metadata": {},
   "outputs": [],
   "source": [
    "print('TEST AUDIO FILE')\n",
    "Audio(sound_file,rate = 22050, autoplay=True)"
   ]
  },
  {
   "cell_type": "code",
   "execution_count": null,
   "metadata": {
    "scrolled": false
   },
   "outputs": [],
   "source": [
    "#to check all centers in selected department\n",
    "url = \"https://www.sante.fr/cf/centres-vaccination-covid.html\"\n",
    "res = requests.get(url)\n",
    "html_page = res.content\n",
    "soup = BeautifulSoup(html_page, 'html.parser')\n",
    "\n",
    "\n",
    "nodoctolib_list = []\n",
    "doctolib_list=[]\n",
    "maiia_list=[]\n",
    "keldoc_list=[]\n",
    "list_dep = [\"78\",\"92\",\"75\"] #\"95\",\"93\",\"94\",\"28\",\"27\"]\n",
    "    \n",
    "\n",
    "for dep in list_dep: \n",
    "    for link in soup.find(\"li\", {\"id\":\"dep-\"+dep}).find_all('a'):\n",
    "        link = link.get('href')      \n",
    "        if link.startswith('https://partners.doctolib.fr') and \"professionnel\" not in link  :\n",
    "            doctolib_list.append(link)\n",
    "        elif link.startswith('https://www.maiia.com/'):\n",
    "            maiia_list.append(link)\n",
    "        elif link.startswith('https://vaccination-covid.keldoc.com/'):\n",
    "            keldoc_list.append(link)\n",
    "        else:   \n",
    "            pass"
   ]
  },
  {
   "cell_type": "code",
   "execution_count": 15,
   "metadata": {},
   "outputs": [],
   "source": [
    "#Personalized list (copy and paste link from : https://www.sante.fr/cf/centres-vaccination-covid.html)\n",
    "doctolib_list=[\n",
    "'https://partners.doctolib.fr/centre-de-sante/paris/centre-de-vaccination-covid-paris-15e?speciality_id=5494&enable_cookies_consent=1',\n",
    "'https://partners.doctolib.fr/centre-de-sante/paris/centre-medical-institut-pasteur-cmip-vaccination-covid-19?speciality_id=5494&enable_cookies_consent=1',\n",
    "'https://partners.doctolib.fr/centre-de-sante/paris/centre-de-vaccination-covid-centre-henry-dunant-croix-rouge-francaise?speciality_id=5494&enable_cookies_consent=1',\n",
    "'https://partners.doctolib.fr/centre-de-sante/versailles/centre-de-vaccination-covid-de-versailles?speciality_id=5494&enable_cookies_consent=1',\n",
    "'https://partners.doctolib.fr/centre-de-sante/montigny-le-bretonneux/centre-de-vaccination-covid-19-de-montigny-le-bretonneux?speciality_id=5494&enable_cookies_consent=1',\n",
    "'https://partners.doctolib.fr/centre-de-sante/saint-germain-en-laye/centre-de-vaccination-covid-de-saint-germain-en-laye?speciality_id=5494&enable_cookies_consent=1',\n",
    "'https://partners.doctolib.fr/centre-de-vaccinations-internationales/boulogne-billancourt/centre-vaccination-ville-de-boulogne-billancourt?speciality_id=5494&enable_cookies_consent=1',\n",
    "'https://partners.doctolib.fr/centre-de-sante/suresnes/centre-de-vaccination-covid-suresnes?speciality_id=5494&?pid=practice-164987&enable_cookies_consent=1',\n",
    "'https://partners.doctolib.fr/centre-de-sante/rueil-malmaison/centre-de-vaccination-covid-europe-rueil-malmaison?speciality_id=5494&enable_cookies_consent=1',\n",
    "'https://partners.doctolib.fr/centre-de-sante/neuilly-sur-seine/centre-de-vaccination-covid-19-du-theatre-des-sablons?speciality_id=5494&enable_cookies_consent=1']\n",
    "                                #https://www.maiia.com/centre-de-vaccination/92380-garches/centre-de-vaccination-garches"
   ]
  },
  {
   "cell_type": "code",
   "execution_count": 16,
   "metadata": {},
   "outputs": [],
   "source": [
    "#Remove cookies\n",
    "doctolib_list = [link[:-1]+'0' for link in doctolib_list]"
   ]
  },
  {
   "cell_type": "code",
   "execution_count": 17,
   "metadata": {
    "scrolled": true
   },
   "outputs": [
    {
     "name": "stdout",
     "output_type": "stream",
     "text": [
      "nombre de lien doctolib 10\n",
      "nombre de lien maiia 1\n",
      "nombre de lien keldoc 0\n"
     ]
    }
   ],
   "source": [
    "print('nombre de lien doctolib', len(doctolib_list))\n",
    "print('nombre de lien maiia', len(maiia_list))\n",
    "print('nombre de lien keldoc', len(keldoc_list))"
   ]
  },
  {
   "cell_type": "code",
   "execution_count": 18,
   "metadata": {},
   "outputs": [
    {
     "name": "stdout",
     "output_type": "stream",
     "text": [
      "TYPE DE CENTRE : \n",
      "centre-de-sante 9\n",
      "centre-de-vaccinations-internationales 1\n"
     ]
    }
   ],
   "source": [
    "dict_list = {}\n",
    "for i in range(len(doctolib_list)):\n",
    "    centre_type = doctolib_list[i].split('/')[3]\n",
    "    if centre_type in dict_list:\n",
    "        dict_list[centre_type]+=1\n",
    "    else:\n",
    "        dict_list[centre_type]=1\n",
    "\n",
    "print(\"TYPE DE CENTRE : \")\n",
    "for k, v in sorted(dict_list.items()): print(k, v)"
   ]
  },
  {
   "cell_type": "code",
   "execution_count": 19,
   "metadata": {},
   "outputs": [],
   "source": [
    "#create first column dataframe\n",
    "centre_list=[]\n",
    "for url in doctolib_list:\n",
    "    centre_vaccination = url.split(\"?\")[0].split(\"/\")[-1]\n",
    "    if centre_vaccination.startswith(\"centre-de-vaccination-covid-19-de-\"):\n",
    "        centre_vaccination=centre_vaccination.split(\"centre-de-vaccination-covid-19-de-\")[1]\n",
    "    elif centre_vaccination.startswith(\"centre-de-vaccination-covid-de-\"):\n",
    "        centre_vaccination=centre_vaccination.split(\"centre-de-vaccination-covid-de-\")[1]\n",
    "    elif centre_vaccination.startswith(\"centre-de-vaccination-covid-19-\"):\n",
    "        centre_vaccination=centre_vaccination.split(\"centre-de-vaccination-covid-19-\")[1]\n",
    "    elif centre_vaccination.startswith(\"centre-de-vaccination-covid-\"):\n",
    "        centre_vaccination=centre_vaccination.split(\"centre-de-vaccination-covid-\")[1]\n",
    "    elif centre_vaccination.startswith(\"centre-de-vaccination-\"):\n",
    "        centre_vaccination=centre_vaccination.split(\"centre-de-vaccination-\")[1]\n",
    "    elif centre_vaccination.startswith(\"ch-eure-seine-centre-de-vaccination-covid-\"):\n",
    "        centre_vaccination=centre_vaccination.split(\"ch-eure-seine-centre-de-vaccination-covid-\")[1]\n",
    "        \n",
    "    centre_list.append(centre_vaccination)\n",
    "df = pd.DataFrame(centre_list, columns=['centre'])"
   ]
  },
  {
   "cell_type": "code",
   "execution_count": 21,
   "metadata": {
    "scrolled": false
   },
   "outputs": [
    {
     "name": "stderr",
     "output_type": "stream",
     "text": [
      "/home/yamhiroto/anaconda3/lib/python3.7/site-packages/ipykernel_launcher.py:4: DeprecationWarning: use options instead of chrome_options\n",
      "  after removing the cwd from sys.path.\n"
     ]
    },
    {
     "name": "stdout",
     "output_type": "stream",
     "text": [
      "trial n. 1 at 03/03-21:41:54 terminé. Sleep for 3 min before next round\n"
     ]
    },
    {
     "ename": "WebDriverException",
     "evalue": "Message: chrome not reachable\n  (Session info: chrome=88.0.4324.182)\n",
     "output_type": "error",
     "traceback": [
      "\u001b[0;31m---------------------------------------------------------------------------\u001b[0m",
      "\u001b[0;31mWebDriverException\u001b[0m                        Traceback (most recent call last)",
      "\u001b[0;32m<ipython-input-21-a1a376b08a9c>\u001b[0m in \u001b[0;36m<module>\u001b[0;34m\u001b[0m\n\u001b[1;32m     13\u001b[0m \u001b[0;34m\u001b[0m\u001b[0m\n\u001b[1;32m     14\u001b[0m         \u001b[0;32mtry\u001b[0m\u001b[0;34m:\u001b[0m\u001b[0;34m\u001b[0m\u001b[0;34m\u001b[0m\u001b[0m\n\u001b[0;32m---> 15\u001b[0;31m             \u001b[0mdriver\u001b[0m\u001b[0;34m.\u001b[0m\u001b[0mget\u001b[0m\u001b[0;34m(\u001b[0m\u001b[0murl\u001b[0m\u001b[0;34m)\u001b[0m\u001b[0;34m\u001b[0m\u001b[0;34m\u001b[0m\u001b[0m\n\u001b[0m\u001b[1;32m     16\u001b[0m             \u001b[0mtime\u001b[0m\u001b[0;34m.\u001b[0m\u001b[0msleep\u001b[0m\u001b[0;34m(\u001b[0m\u001b[0mwait_sec\u001b[0m\u001b[0;34m)\u001b[0m\u001b[0;34m\u001b[0m\u001b[0;34m\u001b[0m\u001b[0m\n\u001b[1;32m     17\u001b[0m             \u001b[0mselect_fr\u001b[0m \u001b[0;34m=\u001b[0m \u001b[0mSelect\u001b[0m\u001b[0;34m(\u001b[0m\u001b[0mdriver\u001b[0m\u001b[0;34m.\u001b[0m\u001b[0mfind_element_by_xpath\u001b[0m\u001b[0;34m(\u001b[0m\u001b[0;34m\"//select[@id='booking_motive']\"\u001b[0m\u001b[0;34m)\u001b[0m\u001b[0;34m)\u001b[0m\u001b[0;34m\u001b[0m\u001b[0;34m\u001b[0m\u001b[0m\n",
      "\u001b[0;32m~/anaconda3/lib/python3.7/site-packages/selenium/webdriver/remote/webdriver.py\u001b[0m in \u001b[0;36mget\u001b[0;34m(self, url)\u001b[0m\n\u001b[1;32m    331\u001b[0m         \u001b[0mLoads\u001b[0m \u001b[0ma\u001b[0m \u001b[0mweb\u001b[0m \u001b[0mpage\u001b[0m \u001b[0;32min\u001b[0m \u001b[0mthe\u001b[0m \u001b[0mcurrent\u001b[0m \u001b[0mbrowser\u001b[0m \u001b[0msession\u001b[0m\u001b[0;34m.\u001b[0m\u001b[0;34m\u001b[0m\u001b[0;34m\u001b[0m\u001b[0m\n\u001b[1;32m    332\u001b[0m         \"\"\"\n\u001b[0;32m--> 333\u001b[0;31m         \u001b[0mself\u001b[0m\u001b[0;34m.\u001b[0m\u001b[0mexecute\u001b[0m\u001b[0;34m(\u001b[0m\u001b[0mCommand\u001b[0m\u001b[0;34m.\u001b[0m\u001b[0mGET\u001b[0m\u001b[0;34m,\u001b[0m \u001b[0;34m{\u001b[0m\u001b[0;34m'url'\u001b[0m\u001b[0;34m:\u001b[0m \u001b[0murl\u001b[0m\u001b[0;34m}\u001b[0m\u001b[0;34m)\u001b[0m\u001b[0;34m\u001b[0m\u001b[0;34m\u001b[0m\u001b[0m\n\u001b[0m\u001b[1;32m    334\u001b[0m \u001b[0;34m\u001b[0m\u001b[0m\n\u001b[1;32m    335\u001b[0m     \u001b[0;34m@\u001b[0m\u001b[0mproperty\u001b[0m\u001b[0;34m\u001b[0m\u001b[0;34m\u001b[0m\u001b[0m\n",
      "\u001b[0;32m~/anaconda3/lib/python3.7/site-packages/selenium/webdriver/remote/webdriver.py\u001b[0m in \u001b[0;36mexecute\u001b[0;34m(self, driver_command, params)\u001b[0m\n\u001b[1;32m    319\u001b[0m         \u001b[0mresponse\u001b[0m \u001b[0;34m=\u001b[0m \u001b[0mself\u001b[0m\u001b[0;34m.\u001b[0m\u001b[0mcommand_executor\u001b[0m\u001b[0;34m.\u001b[0m\u001b[0mexecute\u001b[0m\u001b[0;34m(\u001b[0m\u001b[0mdriver_command\u001b[0m\u001b[0;34m,\u001b[0m \u001b[0mparams\u001b[0m\u001b[0;34m)\u001b[0m\u001b[0;34m\u001b[0m\u001b[0;34m\u001b[0m\u001b[0m\n\u001b[1;32m    320\u001b[0m         \u001b[0;32mif\u001b[0m \u001b[0mresponse\u001b[0m\u001b[0;34m:\u001b[0m\u001b[0;34m\u001b[0m\u001b[0;34m\u001b[0m\u001b[0m\n\u001b[0;32m--> 321\u001b[0;31m             \u001b[0mself\u001b[0m\u001b[0;34m.\u001b[0m\u001b[0merror_handler\u001b[0m\u001b[0;34m.\u001b[0m\u001b[0mcheck_response\u001b[0m\u001b[0;34m(\u001b[0m\u001b[0mresponse\u001b[0m\u001b[0;34m)\u001b[0m\u001b[0;34m\u001b[0m\u001b[0;34m\u001b[0m\u001b[0m\n\u001b[0m\u001b[1;32m    322\u001b[0m             response['value'] = self._unwrap_value(\n\u001b[1;32m    323\u001b[0m                 response.get('value', None))\n",
      "\u001b[0;32m~/anaconda3/lib/python3.7/site-packages/selenium/webdriver/remote/errorhandler.py\u001b[0m in \u001b[0;36mcheck_response\u001b[0;34m(self, response)\u001b[0m\n\u001b[1;32m    240\u001b[0m                 \u001b[0malert_text\u001b[0m \u001b[0;34m=\u001b[0m \u001b[0mvalue\u001b[0m\u001b[0;34m[\u001b[0m\u001b[0;34m'alert'\u001b[0m\u001b[0;34m]\u001b[0m\u001b[0;34m.\u001b[0m\u001b[0mget\u001b[0m\u001b[0;34m(\u001b[0m\u001b[0;34m'text'\u001b[0m\u001b[0;34m)\u001b[0m\u001b[0;34m\u001b[0m\u001b[0;34m\u001b[0m\u001b[0m\n\u001b[1;32m    241\u001b[0m             \u001b[0;32mraise\u001b[0m \u001b[0mexception_class\u001b[0m\u001b[0;34m(\u001b[0m\u001b[0mmessage\u001b[0m\u001b[0;34m,\u001b[0m \u001b[0mscreen\u001b[0m\u001b[0;34m,\u001b[0m \u001b[0mstacktrace\u001b[0m\u001b[0;34m,\u001b[0m \u001b[0malert_text\u001b[0m\u001b[0;34m)\u001b[0m\u001b[0;34m\u001b[0m\u001b[0;34m\u001b[0m\u001b[0m\n\u001b[0;32m--> 242\u001b[0;31m         \u001b[0;32mraise\u001b[0m \u001b[0mexception_class\u001b[0m\u001b[0;34m(\u001b[0m\u001b[0mmessage\u001b[0m\u001b[0;34m,\u001b[0m \u001b[0mscreen\u001b[0m\u001b[0;34m,\u001b[0m \u001b[0mstacktrace\u001b[0m\u001b[0;34m)\u001b[0m\u001b[0;34m\u001b[0m\u001b[0;34m\u001b[0m\u001b[0m\n\u001b[0m\u001b[1;32m    243\u001b[0m \u001b[0;34m\u001b[0m\u001b[0m\n\u001b[1;32m    244\u001b[0m     \u001b[0;32mdef\u001b[0m \u001b[0m_value_or_default\u001b[0m\u001b[0;34m(\u001b[0m\u001b[0mself\u001b[0m\u001b[0;34m,\u001b[0m \u001b[0mobj\u001b[0m\u001b[0;34m,\u001b[0m \u001b[0mkey\u001b[0m\u001b[0;34m,\u001b[0m \u001b[0mdefault\u001b[0m\u001b[0;34m)\u001b[0m\u001b[0;34m:\u001b[0m\u001b[0;34m\u001b[0m\u001b[0;34m\u001b[0m\u001b[0m\n",
      "\u001b[0;31mWebDriverException\u001b[0m: Message: chrome not reachable\n  (Session info: chrome=88.0.4324.182)\n"
     ]
    }
   ],
   "source": [
    "options = webdriver.ChromeOptions()\n",
    "#options.add_argument('headless')\n",
    "\n",
    "driver = webdriver.Chrome(chrome_options=options)\n",
    "wait_sec=0.5\n",
    "url_booking = None\n",
    "\n",
    "for trial in range(1,96):\n",
    "    number_vaccination_list=[]\n",
    "    list_with_issues=[]\n",
    "    \n",
    "    for i,url in enumerate(doctolib_list):\n",
    "\n",
    "        try:\n",
    "            driver.get(url)\n",
    "            time.sleep(wait_sec)\n",
    "            select_fr = Select(driver.find_element_by_xpath(\"//select[@id='booking_motive']\"))\n",
    "            select_fr.select_by_visible_text('1ère injection vaccin COVID-19 (Pfizer-BioNTech)')\n",
    "            time.sleep(wait_sec)\n",
    "            driver.find_element_by_xpath(\"//*[@id='booking-content']/div/div[3]/div[2]/div/div[1]/div/div/div[2]/div/div/div/button\").click()\n",
    "            url_booking = url\n",
    "            break\n",
    "        except NoSuchElementException:\n",
    "\n",
    "            try:        \n",
    "                select_fr = Select(driver.find_element_by_xpath(\"//select[@id='booking_motive']\"))\n",
    "                select_fr.select_by_visible_text('1ère injection vaccin COVID-19 (Pfizer-BioNTech)')\n",
    "                time.sleep(wait_sec)\n",
    "                answer = driver.find_element_by_xpath(\"//div[@class='dl-text dl-text-body dl-text-bold dl-text-s dl-text-gray-darker']\").text.split(\" \")\n",
    "                if answer == ['Désolé,', 'une', 'erreur', 'est', 'survenue.']:\n",
    "                        num_vaccinations = '9999'\n",
    "                if answer == ['Vous', 'ne', 'pouvez', 'pas', 'prendre', 'rendez-vous', 'en', 'ligne', 'avec', 'ce', 'praticien.']:\n",
    "                    num_vaccinations = '9999'\n",
    "                else:\n",
    "                    num_vaccinations=answer[12]\n",
    "                number_vaccination_list.append(num_vaccinations)\n",
    "            except (IndexError, NoSuchElementException):  \n",
    "\n",
    "                try:\n",
    "                    answer = driver.find_element_by_xpath(\"//div[@class='dl-text dl-text-body dl-text-bold dl-text-s dl-text-gray-darker']\").text.split(\" \")\n",
    "                    if answer == ['Désolé,', 'une', 'erreur', 'est', 'survenue.']:\n",
    "                        num_vaccinations = '9999'\n",
    "                    if answer == ['Vous', 'ne', 'pouvez', 'pas', 'prendre', 'rendez-vous', 'en', 'ligne', 'avec', 'ce', 'praticien.']:\n",
    "                        num_vaccinations = '9999'\n",
    "                    else:\n",
    "                        num_vaccinations =answer[12]\n",
    "                    number_vaccination_list.append(num_vaccinations)\n",
    "                except (IndexError, NoSuchElementException) :\n",
    "\n",
    "                    try:\n",
    "                        driver.find_element_by_xpath(\"//*[@id='booking-content']/div/div[1]/div[3]/label[2]\").click()\n",
    "                        select_fr = Select(driver.find_element_by_xpath(\"//*[@id='booking_motive']\"))\n",
    "                        select_fr.select_by_visible_text('1ère injection vaccin COVID-19 (Pfizer-BioNTech)')\n",
    "                        time.sleep(wait_sec)\n",
    "                        answer = driver.find_element_by_xpath(\"//div[@class='dl-text dl-text-body dl-text-bold dl-text-s dl-text-gray-darker']\").text.split(\" \")\n",
    "                        num_vaccinations=answer[12]\n",
    "                        number_vaccination_list.append(num_vaccinations)\n",
    "\n",
    "                    except (IndexError, NoSuchElementException) :\n",
    "                       \n",
    "                        try:\n",
    "                            select_fr = Select(driver.find_element_by_xpath(\"//select[@id='booking_motive']\"))\n",
    "                            select_fr.select_by_visible_text('1ère injection vaccin COVID-19 (Moderna)')\n",
    "                            time.sleep(wait_sec)\n",
    "                            driver.find_element_by_xpath(\"//*[@id='booking-content']/div/div[3]/div[2]/div/div[1]/div/div/div[2]/div/div/div/button\").click()\n",
    "                            Audio(sound_file,rate = 22050, autoplay=True)\n",
    "                            print(url)\n",
    "                        except (IndexError, NoSuchElementException) :\n",
    "                            \n",
    "                            try:\n",
    "                                select_fr = Select(driver.find_element_by_xpath(\"//select[@id='booking_motive']\"))\n",
    "                                select_fr.select_by_visible_text('1ère injection vaccin COVID-19 (Moderna)')\n",
    "                                time.sleep(wait_sec)\n",
    "                                answer = driver.find_element_by_xpath(\"//div[@class='dl-text dl-text-body dl-text-bold dl-text-s dl-text-gray-darker']\").text.split(\" \")\n",
    "                                if answer == ['Désolé,', 'une', 'erreur', 'est', 'survenue.']:\n",
    "                                    num_vaccinations = '9999'\n",
    "                                if answer == ['Vous', 'ne', 'pouvez', 'pas', 'prendre', 'rendez-vous', 'en', 'ligne', 'avec', 'ce', 'praticien.']:\n",
    "                                    num_vaccinations = '9999'\n",
    "                                else:\n",
    "                                    num_vaccinations=answer[12]\n",
    "                                number_vaccination_list.append(num_vaccinations)\n",
    "                            \n",
    "                            except (IndexError, NoSuchElementException) : \n",
    "                            \n",
    "                                number_vaccination_list.append(\"0\")\n",
    "                                list_with_issues.append(url)\n",
    "\n",
    "                                pass\n",
    "\n",
    "    if url_booking is not None:\n",
    "        print('URL FOR BOOKING APPOINTMENT  : ',  url_booking)\n",
    "        now = datetime.now()\n",
    "        print(now)\n",
    "        break\n",
    "\n",
    "    now = datetime.now()\n",
    "    current_time = now.strftime(\"%m/%d-%H:%M:%S\")\n",
    "    values_df = pd.DataFrame(number_vaccination_list, columns= [current_time])\n",
    "    values_df[current_time]=pd.to_numeric(values_df[current_time].replace('tous','9999'))\n",
    "    df = df.join(values_df)\n",
    "\n",
    "    pd.set_option(\"display.max_rows\", None, \"display.max_columns\", None)\n",
    "    if len(df.columns) >2 :\n",
    "        display(df[df.iloc[:,-2]>df.iloc[:,-1]].sort_values(current_time))\n",
    "\n",
    "    \n",
    "    print('trial n.', str(trial), 'at', str(current_time) , 'terminé. Sleep for 3 min before next round')\n",
    "    \n",
    "    time.sleep(180)\n",
    "\n",
    "Audio(sound_file,rate = 22050, autoplay=True)"
   ]
  },
  {
   "cell_type": "code",
   "execution_count": null,
   "metadata": {},
   "outputs": [],
   "source": []
  }
 ],
 "metadata": {
  "kernelspec": {
   "display_name": "Python 3",
   "language": "python",
   "name": "python3"
  },
  "language_info": {
   "codemirror_mode": {
    "name": "ipython",
    "version": 3
   },
   "file_extension": ".py",
   "mimetype": "text/x-python",
   "name": "python",
   "nbconvert_exporter": "python",
   "pygments_lexer": "ipython3",
   "version": "3.7.3"
  }
 },
 "nbformat": 4,
 "nbformat_minor": 2
}
